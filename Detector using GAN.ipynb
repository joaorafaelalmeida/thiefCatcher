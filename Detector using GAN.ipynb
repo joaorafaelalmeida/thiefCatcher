{
 "cells": [
  {
   "cell_type": "code",
   "execution_count": 47,
   "metadata": {},
   "outputs": [],
   "source": [
    "import torch\n",
    "from torch import nn\n",
    "\n",
    "import argparse\n",
    "import scipy.stats as stats\n",
    "import numpy as np\n",
    "import matplotlib.pyplot as plt\n",
    "import matplotlib.font_manager\n",
    "from sklearn import svm\n",
    "# Loading relevant libraries and the dataset\n",
    "import warnings\n",
    "warnings.filterwarnings('ignore',category=FutureWarning)\n",
    "warnings.filterwarnings('ignore',category=RuntimeWarning)\n",
    "\n",
    "from scipy.io import loadmat\n",
    "import matplotlib\n",
    "%matplotlib inline\n",
    "\n",
    "global maximum\n",
    "maximum={}\n",
    "\n",
    "minimumAlert=5\n",
    "showChartBool=True\n",
    "latex=(not showChartBool)\n",
    "\n",
    "obsWindows=[32, 64]\n",
    "slidingValue=16\n",
    "featuresIndex=None#Used to filter for some features\n",
    "window=64 #or 32\n",
    "\n",
    "datasets={\n",
    "    \"train\":{\n",
    "        \"normal\":\"datasets/train/normal.txt\"\n",
    "    },\n",
    "    \"test\":{\n",
    "        \"normal\":\"datasets/test/normal.txt\",\n",
    "        \"brute_isolated\":\"datasets/test/brute_isolated.txt\",\n",
    "        \"brute_mixed\":\"datasets/test/brute_mixed.txt\",\n",
    "        \"smooth_isolated\":\"datasets/test/smooth_isolated.txt\",\n",
    "        \"smooth_mixed\":\"datasets/test/smooth_mixed.txt\",\n",
    "        \"intelligent\":\"datasets/test/intelligent.txt\"\n",
    "    },\n",
    "    \"validation\":{\n",
    "        \"normal\":\"datasets/validation/normal.txt\",\n",
    "        \"brute_isolated\":\"datasets/validation/brute_isolated.txt\",\n",
    "        \"brute_mixed\":\"datasets/validation/brute_mixed.txt\",\n",
    "        \"smooth_isolated\":\"datasets/validation/smooth_isolated.txt\",\n",
    "        \"smooth_mixed\":\"datasets/validation/smooth_mixed.txt\",\n",
    "        \"intelligent\":\"datasets/validation/intelligent.txt\"\n",
    "    }\n",
    "}"
   ]
  },
  {
   "cell_type": "code",
   "execution_count": 48,
   "metadata": {},
   "outputs": [],
   "source": [
    "def extractStats(data):\n",
    "    nSamp,nCols=data.shape\n",
    "\n",
    "    M1=np.mean(data,axis=0)\n",
    "    Md1=np.median(data,axis=0)\n",
    "    Std1=np.std(data,axis=0)\n",
    "    \n",
    "    features=np.hstack((M1,Md1,Std1))\n",
    "    return(features)\n",
    "\n",
    "def extratctSilenceActivity(data,threshold=0):\n",
    "    if(data[0]<=threshold):\n",
    "        s=[1]\n",
    "        a=[]\n",
    "    else:\n",
    "        s=[]\n",
    "        a=[1]\n",
    "    for i in range(1,len(data)):\n",
    "        if(data[i-1]>threshold and data[i]<=threshold):\n",
    "            s.append(1)\n",
    "        elif(data[i-1]<=threshold and data[i]>threshold):\n",
    "            a.append(1)\n",
    "        elif (data[i-1]<=threshold and data[i]<=threshold):\n",
    "            s[-1]+=1\n",
    "        else:\n",
    "            a[-1]+=1\n",
    "    return(s,a)\n",
    "    \n",
    "def extractStatsSilenceActivity(data):\n",
    "    features=[]\n",
    "    nSamples,nMetrics=data.shape\n",
    "    silence_features=np.array([])\n",
    "    activity_features=np.array([])\n",
    "    for c in range(0, nMetrics, 2): #Use only one column from upload and another from download\n",
    "        silence,activity=extratctSilenceActivity(data[:,c],threshold=0)\n",
    "        \n",
    "        if len(silence)>0:\n",
    "            silence_faux=np.array([len(silence),np.mean(silence),np.std(silence)])\n",
    "        else:\n",
    "            silence_faux=np.zeros(3)\n",
    "        silence_features=np.hstack((silence_features,silence_faux))\n",
    "        \n",
    "        if len(activity)>0:\n",
    "            activity_faux=np.array([len(activity),np.mean(activity),np.std(activity)])\n",
    "        else:\n",
    "            activity_faux=np.zeros(3)\n",
    "        activity_features=np.hstack((activity_features,activity_faux))\t   \n",
    "    features=np.hstack((silence_features,activity_features))\n",
    "    return(features)"
   ]
  },
  {
   "cell_type": "markdown",
   "metadata": {},
   "source": [
    "### Function: slidingMultObsWindow\n",
    "This function returns all the extracted features. The return is a dict containing the windows size (as key) and the list of features extracted from that windows (as value).\n",
    "Index of the features in the array:\n",
    "1. Window of 32 seconds:\n",
    "    1. Mean (4 columns: Upload Size, Upload Count, Download Size, Download Count)\n",
    "    2. Median (4 columns: Upload Size, Upload Count, Download Size, Download Count)\n",
    "    3. Standard deviation (4 columns: Up Size, Up Count, Down Size, Down Count)\n",
    "    4. Silence (6 columns: Mean, Median and Standard deviation for Upload and Download size)\n",
    "    5. Activity (6 columns: Mean, Median and Standard deviation for Upload and Download size)\n",
    "1. Window of 64 seconds:\n",
    "    1. Mean (4 columns: Upload Size, Upload Count, Download Size, Download Count)\n",
    "    2. Median (4 columns: Upload Size, Upload Count, Download Size, Download Count)\n",
    "    3. Standard deviation (4 columns: Up Size, Up Count, Down Size, Down Count)\n",
    "    4. Silence (6 columns: Mean, Median and Standard deviation for Upload and Download size)\n",
    "    5. Activity (6 columns: Mean, Median and Standard deviation for Upload and Download size)\n"
   ]
  },
  {
   "cell_type": "code",
   "execution_count": 49,
   "metadata": {},
   "outputs": [],
   "source": [
    "def slidingMultObsWindow(data,lengthObsWindow,slidingValue, filterIndex=None, defineMax=False):\n",
    "    nSamples,nMetrics=data.shape\n",
    "    #Fix windows\n",
    "    results = {}\n",
    "    for s in np.arange(max(lengthObsWindow),nSamples,slidingValue):\n",
    "        features=np.array([])\n",
    "        for oW in lengthObsWindow:\n",
    "            if oW not in results:\n",
    "                results[oW] = []\n",
    "            subdata=data[s-oW:s,1:]\n",
    "            faux=extractStats(subdata)\n",
    "            faux2=extractStatsSilenceActivity(subdata)\n",
    "            features=np.hstack((features,faux,faux2))\n",
    "            #print(('{} '*len(features)).format(*features))\n",
    "            if filterIndex:\n",
    "                features = features[filterIndex]\n",
    "            results[oW].append(features)\n",
    "    \n",
    "    for oW in lengthObsWindow:\n",
    "        if oW in results:\n",
    "            results[oW] = np.array(results[oW])\n",
    "            global maximum\n",
    "            if defineMax:\n",
    "                maximum[oW]=(results[oW].max(axis=0)+np.finfo(np.float32).eps)\n",
    "            results[oW] = results[oW]/maximum[oW]\n",
    "            \n",
    "    return results"
   ]
  },
  {
   "cell_type": "code",
   "execution_count": 50,
   "metadata": {},
   "outputs": [],
   "source": [
    "def showChart(dataInput):\n",
    "    if showChartBool:\n",
    "        name=dataInput.split(\"/\")[1:3]\n",
    "        print(\"Traffic from\", name[0], \"in\", name[1], \"mode\")\n",
    "        corruptData=np.loadtxt(dataInput,dtype=int)\n",
    "        plt.figure(figsize=(15,15))\n",
    "        plt.subplot(2,1,1)\n",
    "        plt.plot(corruptData[:,0],corruptData[:,1],corruptData[:,0],corruptData[:,3])\n",
    "        plt.xlabel('Time (seconds)')\n",
    "        plt.ylabel('Packages count')\n",
    "        plt.subplot(2,1,2)\n",
    "        plt.plot(corruptData[:,0],corruptData[:,2],corruptData[:,0],corruptData[:,4])\n",
    "        plt.xlabel('Time (seconds)')\n",
    "        plt.ylabel('Packages count')\n",
    "        plt.show()"
   ]
  },
  {
   "cell_type": "code",
   "execution_count": null,
   "metadata": {},
   "outputs": [],
   "source": [
    "fileInput=datasets[\"train\"][\"normal\"]\n",
    "showChart(fileInput)\n",
    "data=np.loadtxt(fileInput,dtype=int)\n",
    "normalTraffic = slidingMultObsWindow(data,obsWindows,slidingValue, featuresIndex, True)"
   ]
  },
  {
   "cell_type": "code",
   "execution_count": 29,
   "metadata": {},
   "outputs": [],
   "source": [
    "traffic={}\n",
    "for x in datasets:\n",
    "    traffic[x]={}\n",
    "    for ds in datasets[x]:\n",
    "        fin=datasets[x][ds]\n",
    "        data=np.loadtxt(fin,dtype=int)\n",
    "        showChart(fin)\n",
    "        traffic[x][ds] = slidingMultObsWindow(data,obsWindows,slidingValue, featuresIndex)[window]"
   ]
  },
  {
   "cell_type": "code",
   "execution_count": 30,
   "metadata": {},
   "outputs": [
    {
     "name": "stdout",
     "output_type": "stream",
     "text": [
      "109\n"
     ]
    }
   ],
   "source": [
    "Xtrain=traffic[\"train\"][\"normal\"]\n",
    "torch.manual_seed(111)\n",
    "train_data_length = len(Xtrain)\n",
    "train_data = torch.from_numpy(Xtrain)\n",
    "train_labels = torch.zeros(train_data_length)\n",
    "train_set = [\n",
    "    (train_data[i], train_labels[i]) for i in range(train_data_length)\n",
    "]\n",
    "print(len(train_set))"
   ]
  },
  {
   "cell_type": "code",
   "execution_count": 31,
   "metadata": {},
   "outputs": [
    {
     "data": {
      "text/plain": [
       "[<matplotlib.lines.Line2D at 0x24626543640>]"
      ]
     },
     "execution_count": 31,
     "metadata": {},
     "output_type": "execute_result"
    },
    {
     "data": {
      "image/png": "[encoded data removed]",
      "text/plain": [
       "<Figure size 432x288 with 1 Axes>"
      ]
     },
     "metadata": {
      "needs_background": "light"
     },
     "output_type": "display_data"
    }
   ],
   "source": [
    "plt.plot(train_data[:, 0], train_data[:, 1], \".\")"
   ]
  },
  {
   "cell_type": "code",
   "execution_count": 32,
   "metadata": {},
   "outputs": [],
   "source": [
    "batch_size = 32\n",
    "train_loader = torch.utils.data.DataLoader(\n",
    "    train_set, batch_size=batch_size, shuffle=True\n",
    ")"
   ]
  },
  {
   "cell_type": "code",
   "execution_count": 33,
   "metadata": {},
   "outputs": [],
   "source": [
    "class Discriminator(nn.Module):\n",
    "    def __init__(self):\n",
    "        super().__init__()\n",
    "        self.model = nn.Sequential(\n",
    "            nn.Linear(48, 256),\n",
    "            nn.ReLU(),\n",
    "            nn.Dropout(0.3),\n",
    "            nn.Linear(256, 128),\n",
    "            nn.ReLU(),\n",
    "            nn.Dropout(0.3),\n",
    "            nn.Linear(128, 64),\n",
    "            nn.ReLU(),\n",
    "            nn.Dropout(0.3),\n",
    "            nn.Linear(64, 1),\n",
    "            nn.Sigmoid(),\n",
    "        )\n",
    "\n",
    "    def forward(self, x):\n",
    "        output = self.model(x)\n",
    "        return output"
   ]
  },
  {
   "cell_type": "code",
   "execution_count": 34,
   "metadata": {},
   "outputs": [],
   "source": [
    "discriminator = Discriminator()"
   ]
  },
  {
   "cell_type": "code",
   "execution_count": 35,
   "metadata": {},
   "outputs": [],
   "source": [
    "class Generator(nn.Module):\n",
    "    def __init__(self):\n",
    "        super().__init__()\n",
    "        self.model = nn.Sequential(\n",
    "            nn.Linear(2, 16),\n",
    "            nn.ReLU(),\n",
    "            nn.Linear(16, 32),\n",
    "            nn.ReLU(),\n",
    "            nn.Linear(32, 48),\n",
    "        )\n",
    "\n",
    "    def forward(self, x):\n",
    "        output = self.model(x)\n",
    "        return output\n",
    "\n",
    "generator = Generator()"
   ]
  },
  {
   "cell_type": "code",
   "execution_count": 36,
   "metadata": {},
   "outputs": [],
   "source": [
    "lr = 0.001\n",
    "num_epochs = 300\n",
    "loss_function = nn.BCELoss()"
   ]
  },
  {
   "cell_type": "code",
   "execution_count": 37,
   "metadata": {},
   "outputs": [],
   "source": [
    "optimizer_discriminator = torch.optim.Adam(discriminator.parameters(), lr=lr)\n",
    "optimizer_generator = torch.optim.Adam(generator.parameters(), lr=lr)"
   ]
  },
  {
   "cell_type": "code",
   "execution_count": 38,
   "metadata": {},
   "outputs": [],
   "source": [
    "for epoch in range(num_epochs):\n",
    "    for n, (real_samples, _) in enumerate(train_loader):\n",
    "        # Data for training the discriminator\n",
    "        new_batch_size=len(real_samples)\n",
    "        real_samples_labels = torch.ones((new_batch_size, 1))\n",
    "        latent_space_samples = torch.randn((new_batch_size, 2))#, dtype=torch.float64)\n",
    "        generated_samples = generator(latent_space_samples)\n",
    "        generated_samples_labels = torch.zeros((new_batch_size, 1))\n",
    "        \n",
    "        all_samples = torch.cat((real_samples, generated_samples))\n",
    "        all_samples_labels = torch.cat(\n",
    "            (real_samples_labels, generated_samples_labels)\n",
    "        )\n",
    "        \n",
    "        # Training the discriminator\n",
    "        discriminator.zero_grad()\n",
    "        output_discriminator = discriminator(all_samples.float())\n",
    "        loss_discriminator = loss_function(\n",
    "            output_discriminator, all_samples_labels)\n",
    "        loss_discriminator.backward()\n",
    "        optimizer_discriminator.step()\n",
    "\n",
    "        # Data for training the generator\n",
    "        latent_space_samples = torch.randn((new_batch_size,  2))\n",
    "\n",
    "        # Training the generator\n",
    "        generator.zero_grad()\n",
    "        generated_samples = generator(latent_space_samples)\n",
    "        \n",
    "        output_discriminator_generated = discriminator(generated_samples)\n",
    "        loss_generator = loss_function(\n",
    "            output_discriminator_generated, real_samples_labels\n",
    "        )\n",
    "        loss_generator.backward()\n",
    "        optimizer_generator.step()\n",
    "\n",
    "        # Show loss\n",
    "        if epoch % 10 == 0 and False:\n",
    "            print(f\"Epoch: {epoch} Loss D.: {loss_discriminator}\")\n",
    "            print(f\"Epoch: {epoch} Loss G.: {loss_generator}\")"
   ]
  },
  {
   "cell_type": "code",
   "execution_count": 39,
   "metadata": {},
   "outputs": [],
   "source": [
    "#Generate traffic\n",
    "latent_space_samples = torch.randn(512, 2)\n",
    "generated_samples = generator(latent_space_samples)\n",
    "dtset = generated_samples.detach().numpy()"
   ]
  },
  {
   "cell_type": "code",
   "execution_count": 40,
   "metadata": {},
   "outputs": [],
   "source": [
    "def scores(prediction, botWindow):\n",
    "    TP=0.00001\n",
    "    FP=0.00001\n",
    "    FN=0.00001\n",
    "    pIndex=0\n",
    "    for p in prediction:\n",
    "        if pIndex in botWindow:\n",
    "            if p == -1:\n",
    "                TP+=1\n",
    "            else:\n",
    "                FN+=1\n",
    "        else:\n",
    "            if p == -1:\n",
    "                FP+=1\n",
    "            else:\n",
    "                TP+=1\n",
    "        pIndex+=1\n",
    "    try:\n",
    "        precision=TP/(TP+FP)\n",
    "        recall=TP/(TP+FN)\n",
    "        f1=2*((precision*recall)/(precision+recall))\n",
    "    except:\n",
    "        return None, None, None\n",
    "    return precision, recall, f1\n",
    "\n",
    "def process(dataInput, botWindow, algorithm=\"svm\"):\n",
    "    data=np.loadtxt(dataInput,dtype=int)\n",
    "    traffic = slidingMultObsWindow(data,obsWindows,slidingValue, featuresIndex)[window]\n",
    "    name=dataInput.split(\"/\")[1:3]\n",
    "    showChart(dataInput)\n",
    "    \n",
    "    if algorithm == \"svm\":\n",
    "        prediction = clf.predict(traffic)\n",
    "    elif algorithm == \"kmeans\":\n",
    "        prediction=[]\n",
    "        for obs in traffic:\n",
    "            dists = euclidean_distances([obs],kmeans.cluster_centers_)\n",
    "            if dists[0]>maxDst+thresholdKmeans:\n",
    "                prediction+=[-1]\n",
    "            else:\n",
    "                prediction+=[1]\n",
    "    elif algorithm == \"pca_svm\":\n",
    "        pcaFeatures = pca.fit(traffic).transform(traffic)\n",
    "        prediction = clf.predict(pcaFeatures)\n",
    "\n",
    "    count=0\n",
    "    numPositives=0\n",
    "    pIndex=0\n",
    "    countAlerts=0\n",
    "    for value in prediction:\n",
    "        if value == 1:\n",
    "            numPositives+=1\n",
    "            if numPositives >= 2:\n",
    "                count=0\n",
    "                numPositives=0\n",
    "        else:\n",
    "            count+=1\n",
    "        if count>=minimumAlert:\n",
    "            countAlerts+=1\n",
    "        pIndex+=1\n",
    "    precision, recall, f1=scores(prediction,botWindow)\n",
    "    \n",
    "    if latex:\n",
    "        print(\"& &\", round(precision, 2), \"&\", round(recall, 2), \"&\", round(f1, 2), \"&\", countAlerts)\n",
    "    else:  \n",
    "        print(\"Traffic from\", name[0], \"in\", name[1], \"mode\")\n",
    "        print(prediction)\n",
    "        print(\"Scores:\")\n",
    "        print(name[0], \"in\", name[1], \"mode\", \"Precision:\", round(precision, 2), \"Recall:\", round(recall, 2), \"F1-Score:\", round(f1, 2), \"Alert (%):\", countAlerts/(pIndex-minimumAlert+1)*100)\n",
    "        print(\"Num Alerts:\", countAlerts)\n",
    "        print(\"Alert (%):\", countAlerts/(pIndex-minimumAlert+1)*100)\n",
    "        print(\"\\n\\n\")"
   ]
  },
  {
   "cell_type": "markdown",
   "metadata": {},
   "source": [
    "## One-Class SVM"
   ]
  },
  {
   "cell_type": "code",
   "execution_count": 41,
   "metadata": {},
   "outputs": [
    {
     "data": {
      "text/plain": [
       "OneClassSVM(gamma='auto', nu=0.001)"
      ]
     },
     "execution_count": 41,
     "metadata": {},
     "output_type": "execute_result"
    }
   ],
   "source": [
    "train=np.concatenate((Xtrain,dtset), axis=0)\n",
    "clf = svm.OneClassSVM(nu=0.001, kernel=\"rbf\", gamma='auto')\n",
    "clf.fit(train)"
   ]
  },
  {
   "cell_type": "markdown",
   "metadata": {},
   "source": [
    "### Validation Data Set"
   ]
  },
  {
   "cell_type": "code",
   "execution_count": 42,
   "metadata": {},
   "outputs": [
    {
     "name": "stdout",
     "output_type": "stream",
     "text": [
      "& & 0.85 & 1.0 & 0.92 & 0\n",
      "& & 1.0 & 1.0 & 1.0 & 11\n",
      "& & 1.0 & 0.74 & 0.85 & 17\n",
      "& & 1.0 & 0.67 & 0.8 & 2\n",
      "& & 1.0 & 0.14 & 0.25 & 0\n",
      "& & 1.0 & 0.41 & 0.58 & 0\n"
     ]
    }
   ],
   "source": [
    "valFiles=[(datasets[\"validation\"][\"normal\"], [-1]), \n",
    "            (datasets[\"validation\"][\"brute_isolated\"], range(0, 500)), #500, because all traffic contains bot\n",
    "            (datasets[\"validation\"][\"brute_mixed\"], range(3, 500)), #First minute does not contain bot, so due to the sliding scale, the bot is considered after 3 windows\n",
    "            (datasets[\"validation\"][\"smooth_isolated\"], range(0, 500)), #500, because all traffic contains bot\n",
    "            (datasets[\"validation\"][\"smooth_mixed\"], range(3, 500)), #First minute does not contain bot, so due to the sliding scale, the bot is considered after 3 windows\n",
    "            (datasets[\"validation\"][\"intelligent\"], range(3, 500)), #First minute does not contain bot, so due to the sliding scale, the bot is considered after 3 windows\n",
    "           ]\n",
    "for dataInput, botWin in valFiles:\n",
    "    process(dataInput, botWin, \"svm\")"
   ]
  },
  {
   "cell_type": "markdown",
   "metadata": {},
   "source": [
    "### Test Data Set"
   ]
  },
  {
   "cell_type": "code",
   "execution_count": 43,
   "metadata": {},
   "outputs": [
    {
     "name": "stdout",
     "output_type": "stream",
     "text": [
      "& & 0.93 & 1.0 & 0.96 & 0\n",
      "& & 1.0 & 1.0 & 1.0 & 10\n",
      "& & 1.0 & 0.2 & 0.33 & 0\n",
      "& & 1.0 & 0.6 & 0.75 & 4\n",
      "& & 1.0 & 0.23 & 0.38 & 0\n",
      "& & 1.0 & 0.21 & 0.35 & 0\n"
     ]
    }
   ],
   "source": [
    "testFiles=[(datasets[\"test\"][\"normal\"], [-1]), \n",
    "            (datasets[\"test\"][\"brute_isolated\"], range(0, 500)), #500, because all traffic contains bot\n",
    "            (datasets[\"test\"][\"brute_mixed\"], range(3, 500)), #First minute does not contain bot, so due to the sliding scale, the bot is considered after 3 windows\n",
    "            (datasets[\"test\"][\"smooth_isolated\"], range(0, 500)), #500, because all traffic contains bot\n",
    "            (datasets[\"test\"][\"smooth_mixed\"], range(3, 500)), #First minute does not contain bot, so due to the sliding scale, the bot is considered after 3 windows\n",
    "            (datasets[\"test\"][\"intelligent\"], range(3, 500)), #First minute does not contain bot, so due to the sliding scale, the bot is considered after 3 windows\n",
    "           ]\n",
    "for dataInput, botWin in testFiles:\n",
    "    process(dataInput, botWin, \"svm\")"
   ]
  },
  {
   "cell_type": "markdown",
   "metadata": {},
   "source": [
    "## K-Means"
   ]
  },
  {
   "cell_type": "code",
   "execution_count": 44,
   "metadata": {},
   "outputs": [
    {
     "name": "stdout",
     "output_type": "stream",
     "text": [
      "[0.17447553 0.4114031  0.47764827 0.5381942  0.10155107 0.41542431\n",
      " 0.43900036 0.55131881 0.22181069 0.35891877 0.37403391 0.39583336\n",
      " 0.22542595 0.14278547 0.12984385 0.21756225 0.15305082 0.1367825\n",
      " 0.28863796 0.30529019 0.34382967 0.28016937 0.31514052 0.33513985\n",
      " 0.22036476 0.46966913 0.56692548 0.6394573  0.06723988 0.49463442\n",
      " 0.4497392  0.58794779 0.2882053  0.4857376  0.48604423 0.50711888\n",
      " 0.35671883 0.33521378 0.25878368 0.34430653 0.34398104 0.27430199\n",
      " 0.39179708 0.32466331 0.28324961 0.37938478 0.3350758  0.28451993]\n"
     ]
    }
   ],
   "source": [
    "from sklearn.cluster import KMeans\n",
    "from sklearn.metrics.pairwise import euclidean_distances\n",
    "\n",
    "kmeans = KMeans(n_clusters=1, random_state=0).fit(Xtrain)\n",
    "print(kmeans.cluster_centers_[0])\n",
    "#dists = euclidean_distances(kmeans.cluster_centers_)\n",
    "\n",
    "maxDst=0\n",
    "for obs in Xtrain:\n",
    "    dists = euclidean_distances([obs],kmeans.cluster_centers_)\n",
    "    if dists[0]>maxDst:\n",
    "        maxDst=dists[0]\n",
    "thresholdKmeans=maxDst*0.2"
   ]
  },
  {
   "cell_type": "markdown",
   "metadata": {},
   "source": [
    "### Validation Data Set"
   ]
  },
  {
   "cell_type": "code",
   "execution_count": 45,
   "metadata": {},
   "outputs": [
    {
     "name": "stdout",
     "output_type": "stream",
     "text": [
      "& & 0.85 & 1.0 & 0.92 & 0\n",
      "& & 1.0 & 1.0 & 1.0 & 11\n",
      "& & 1.0 & 0.59 & 0.74 & 13\n",
      "& & 0.5 & 0.0 & 0.0 & 0\n",
      "& & 1.0 & 0.11 & 0.19 & 0\n",
      "& & 1.0 & 0.35 & 0.52 & 0\n"
     ]
    }
   ],
   "source": [
    "valFiles=[(datasets[\"validation\"][\"normal\"], [-1]), \n",
    "            (datasets[\"validation\"][\"brute_isolated\"], range(0, 500)), #500, because all traffic contains bot\n",
    "            (datasets[\"validation\"][\"brute_mixed\"], range(3, 500)), #First minute does not contain bot, so due to the sliding scale, the bot is considered after 3 windows\n",
    "            (datasets[\"validation\"][\"smooth_isolated\"], range(0, 500)), #500, because all traffic contains bot\n",
    "            (datasets[\"validation\"][\"smooth_mixed\"], range(3, 500)), #First minute does not contain bot, so due to the sliding scale, the bot is considered after 3 windows\n",
    "            (datasets[\"validation\"][\"intelligent\"], range(3, 500)), #First minute does not contain bot, so due to the sliding scale, the bot is considered after 3 windows\n",
    "           ]\n",
    "for dataInput, botWin in valFiles:\n",
    "    process(dataInput, botWin, \"kmeans\")"
   ]
  },
  {
   "cell_type": "markdown",
   "metadata": {},
   "source": [
    "### Test Data Set"
   ]
  },
  {
   "cell_type": "code",
   "execution_count": 46,
   "metadata": {},
   "outputs": [
    {
     "name": "stdout",
     "output_type": "stream",
     "text": [
      "& & 1.0 & 1.0 & 1.0 & 0\n",
      "& & 1.0 & 1.0 & 1.0 & 10\n",
      "& & 1.0 & 0.2 & 0.33 & 0\n",
      "& & 0.5 & 0.0 & 0.0 & 0\n",
      "& & 1.0 & 0.23 & 0.38 & 0\n",
      "& & 1.0 & 0.21 & 0.35 & 0\n"
     ]
    }
   ],
   "source": [
    "testFiles=[(datasets[\"test\"][\"normal\"], [-1]), \n",
    "            (datasets[\"test\"][\"brute_isolated\"], range(0, 500)), #500, because all traffic contains bot\n",
    "            (datasets[\"test\"][\"brute_mixed\"], range(3, 500)), #First minute does not contain bot, so due to the sliding scale, the bot is considered after 3 windows\n",
    "            (datasets[\"test\"][\"smooth_isolated\"], range(0, 500)), #500, because all traffic contains bot\n",
    "            (datasets[\"test\"][\"smooth_mixed\"], range(3, 500)), #First minute does not contain bot, so due to the sliding scale, the bot is considered after 3 windows\n",
    "            (datasets[\"test\"][\"intelligent\"], range(3, 500)), #First minute does not contain bot, so due to the sliding scale, the bot is considered after 3 windows\n",
    "           ]\n",
    "for dataInput, botWin in testFiles:\n",
    "    process(dataInput, botWin, \"kmeans\")"
   ]
  },
  {
   "cell_type": "code",
   "execution_count": null,
   "metadata": {},
   "outputs": [],
   "source": []
  },
  {
   "cell_type": "code",
   "execution_count": null,
   "metadata": {},
   "outputs": [],
   "source": []
  },
  {
   "cell_type": "code",
   "execution_count": null,
   "metadata": {},
   "outputs": [],
   "source": []
  }
 ],
 "metadata": {
  "kernelspec": {
   "display_name": "gan",
   "language": "python",
   "name": "gan"
  },
  "language_info": {
   "codemirror_mode": {
    "name": "ipython",
    "version": 3
   },
   "file_extension": ".py",
   "mimetype": "text/x-python",
   "name": "python",
   "nbconvert_exporter": "python",
   "pygments_lexer": "ipython3",
   "version": "3.8.5"
  }
 },
 "nbformat": 4,
 "nbformat_minor": 4
}
